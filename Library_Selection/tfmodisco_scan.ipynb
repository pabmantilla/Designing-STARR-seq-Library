{
 "cells": [
  {
   "cell_type": "code",
   "execution_count": 128,
   "id": "12aaceb3",
   "metadata": {},
   "outputs": [],
   "source": [
    "# imports \n",
    "import numpy as np\n",
    "import pandas as pd\n",
    "import os\n",
    "import subprocess\n",
    "from IPython.display import HTML\n"
   ]
  },
  {
   "cell_type": "code",
   "execution_count": null,
   "id": "b14770d6",
   "metadata": {},
   "outputs": [
    {
     "name": "stdout",
     "output_type": "stream",
     "text": [
      "DEV Library:\n",
      "  Library sequences: 302\n",
      "  Attribution shape: (302, 4, 249)\n",
      "  One-hot shape: (302, 4, 249)\n",
      "  Match: True\n",
      "\n",
      "HK Library:\n",
      "  Library sequences: 336\n",
      "  Attribution shape: (336, 4, 249)\n",
      "  One-hot shape: (336, 4, 249)\n",
      "  Match: True\n",
      "\n",
      "Total sequences loaded:\n",
      "  DEV: 302 sequences\n",
      "  HK: 336 sequences\n",
      "  Total: 638 sequences\n"
     ]
    },
    {
     "ename": "",
     "evalue": "",
     "output_type": "error",
     "traceback": [
      "\u001b[1;31mnotebook controller is DISPOSED. \n",
      "\u001b[1;31mView Jupyter <a href='command:jupyter.viewOutput'>log</a> for further details."
     ]
    },
    {
     "ename": "",
     "evalue": "",
     "output_type": "error",
     "traceback": [
      "\u001b[1;31mnotebook controller is DISPOSED. \n",
      "\u001b[1;31mView Jupyter <a href='command:jupyter.viewOutput'>log</a> for further details."
     ]
    }
   ],
   "source": [
    "# Load attribution and one-hot sequences and verify lengths\n",
    "\n",
    "# Load DEV library and attributions\n",
    "dev_library = pd.read_csv('Libraries/dev_modisco/dev_library.csv', index_col=0)\n",
    "dev_attr = np.load('Libraries/dev_modisco/attr.npz')['arr_0']\n",
    "dev_ohe = np.load('Libraries/dev_modisco/ohe.npz')['arr_0']\n",
    "\n",
    "# Load HK library and attributions\n",
    "hk_library = pd.read_csv('Libraries/hk_modisco/hk_library.csv', index_col=0)\n",
    "hk_attr = np.load('Libraries/hk_modisco/attr.npz')['arr_0']\n",
    "hk_ohe = np.load('Libraries/hk_modisco/ohe.npz')['arr_0']\n",
    "\n",
    "# Print proof that they're the same length\n",
    "print(\"DEV Library:\")\n",
    "print(f\"  Library sequences: {len(dev_library)}\")\n",
    "print(f\"  Attribution shape: {dev_attr.shape}\")\n",
    "print(f\"  One-hot shape: {dev_ohe.shape}\")\n",
    "print(f\"  Match: {len(dev_library) == dev_attr.shape[0] == dev_ohe.shape[0]}\")\n",
    "\n",
    "print(\"\\nHK Library:\")\n",
    "print(f\"  Library sequences: {len(hk_library)}\")\n",
    "print(f\"  Attribution shape: {hk_attr.shape}\")\n",
    "print(f\"  One-hot shape: {hk_ohe.shape}\")\n",
    "print(f\"  Match: {len(hk_library) == hk_attr.shape[0] == hk_ohe.shape[0]}\")\n",
    "\n",
    "print(f\"\\nTotal sequences loaded:\")\n",
    "print(f\"  DEV: {len(dev_library)} sequences\")\n",
    "print(f\"  HK: {len(hk_library)} sequences\")\n",
    "print(f\"  Total: {len(dev_library) + len(hk_library)} sequences\")"
   ]
  },
  {
   "cell_type": "code",
   "execution_count": null,
   "id": "2fb39a75",
   "metadata": {},
   "outputs": [
    {
     "name": "stdout",
     "output_type": "stream",
     "text": [
      "Running modisco for DEV library...\n",
      "DEV modisco exit code: 0\n",
      "\n",
      "Running modisco for HK library...\n",
      "HK modisco exit code: 0\n",
      "\n",
      "Modisco results saved to:\n",
      "  DEV: Libraries/dev_modisco/results/modisco_results.h5\n",
      "  HK: Libraries/hk_modisco/results/modisco_results.h5\n"
     ]
    },
    {
     "ename": "",
     "evalue": "",
     "output_type": "error",
     "traceback": [
      "\u001b[1;31mnotebook controller is DISPOSED. \n",
      "\u001b[1;31mView Jupyter <a href='command:jupyter.viewOutput'>log</a> for further details."
     ]
    },
    {
     "ename": "",
     "evalue": "",
     "output_type": "error",
     "traceback": [
      "\u001b[1;31mnotebook controller is DISPOSED. \n",
      "\u001b[1;31mView Jupyter <a href='command:jupyter.viewOutput'>log</a> for further details."
     ]
    }
   ],
   "source": [
    "# Create results directories\n",
    "os.makedirs('Libraries/dev_modisco/results', exist_ok=True)\n",
    "os.makedirs('Libraries/hk_modisco/results', exist_ok=True)\n",
    "\n",
    "# Run modisco for DEV library with window size 249\n",
    "print(\"Running modisco for DEV library...\")\n",
    "dev_cmd = [\n",
    "    'modisco', 'motifs',\n",
    "    '-s', 'Libraries/dev_modisco/ohe.npz',\n",
    "    '-a', 'Libraries/dev_modisco/attr.npz', \n",
    "    '-n', '2000',\n",
    "    '-w', '248',  # Set window size to 248 (same as sequence length)\n",
    "    '-o', 'Libraries/dev_modisco/results/modisco_results.h5'\n",
    "]\n",
    "\n",
    "result_dev = subprocess.run(dev_cmd, capture_output=True, text=True)\n",
    "print(f\"DEV modisco exit code: {result_dev.returncode}\")\n",
    "if result_dev.stdout:\n",
    "    print(f\"DEV stdout: {result_dev.stdout}\")\n",
    "if result_dev.stderr:\n",
    "    print(f\"DEV stderr: {result_dev.stderr}\")\n",
    "\n",
    "# Run modisco for HK library with window size 249\n",
    "print(\"\\nRunning modisco for HK library...\")\n",
    "hk_cmd = [\n",
    "    'modisco', 'motifs',\n",
    "    '-s', 'Libraries/hk_modisco/ohe.npz',\n",
    "    '-a', 'Libraries/hk_modisco/attr.npz',\n",
    "    '-n', '2000',\n",
    "    '-w', '248',  # Set window size to 248 (same as sequence length)\n",
    "    '-o', 'Libraries/hk_modisco/results/modisco_results.h5'\n",
    "]\n",
    "\n",
    "result_hk = subprocess.run(hk_cmd, capture_output=True, text=True)\n",
    "print(f\"HK modisco exit code: {result_hk.returncode}\")\n",
    "if result_hk.stdout:\n",
    "    print(f\"HK stdout: {result_hk.stdout}\")\n",
    "if result_hk.stderr:\n",
    "    print(f\"HK stderr: {result_hk.stderr}\")\n",
    "\n",
    "print(f\"\\nModisco results saved to:\")\n",
    "print(f\"  DEV: Libraries/dev_modisco/results/modisco_results.h5\")\n",
    "print(f\"  HK: Libraries/hk_modisco/results/modisco_results.h5\")"
   ]
  },
  {
   "cell_type": "code",
   "execution_count": null,
   "id": "0cdd06f2",
   "metadata": {},
   "outputs": [
    {
     "name": "stdout",
     "output_type": "stream",
     "text": [
      "Running modisco report for DEV library...\n",
      "DEV report exit code: 0\n",
      "\n",
      "Running modisco report for HK library...\n",
      "HK report exit code: 0\n",
      "\n",
      "DEV Modisco Report:\n",
      "Report directory exists: Libraries/dev_modisco/results/report\n",
      "Files in report directory:\n",
      "  - motifs.html\n",
      "  - trimmed_logos\n",
      "\n",
      "==================================================\n",
      "\n",
      "HK Modisco Report:\n",
      "Report directory exists: Libraries/hk_modisco/results/report\n",
      "Files in report directory:\n",
      "  - motifs.html\n",
      "  - trimmed_logos\n"
     ]
    },
    {
     "ename": "",
     "evalue": "",
     "output_type": "error",
     "traceback": [
      "\u001b[1;31mnotebook controller is DISPOSED. \n",
      "\u001b[1;31mView Jupyter <a href='command:jupyter.viewOutput'>log</a> for further details."
     ]
    },
    {
     "ename": "",
     "evalue": "",
     "output_type": "error",
     "traceback": [
      "\u001b[1;31mnotebook controller is DISPOSED. \n",
      "\u001b[1;31mView Jupyter <a href='command:jupyter.viewOutput'>log</a> for further details."
     ]
    }
   ],
   "source": [
    "import subprocess\n",
    "import os\n",
    "from IPython.display import HTML\n",
    "\n",
    "# Run modisco report for DEV library\n",
    "print(\"Running modisco report for DEV library...\")\n",
    "dev_report_cmd = [\n",
    "    'modisco', 'report',\n",
    "    '-i', 'Libraries/dev_modisco/results/modisco_results.h5',\n",
    "    '-o', 'Libraries/dev_modisco/results/report/'\n",
    "]\n",
    "\n",
    "result_dev_report = subprocess.run(dev_report_cmd, capture_output=True, text=True)\n",
    "print(f\"DEV report exit code: {result_dev_report.returncode}\")\n",
    "if result_dev_report.stdout:\n",
    "    print(f\"DEV report stdout: {result_dev_report.stdout}\")\n",
    "if result_dev_report.stderr:\n",
    "    print(f\"DEV report stderr: {result_dev_report.stderr}\")\n",
    "\n",
    "# Run modisco report for HK library\n",
    "print(\"\\nRunning modisco report for HK library...\")\n",
    "hk_report_cmd = [\n",
    "    'modisco', 'report',\n",
    "    '-i', 'Libraries/hk_modisco/results/modisco_results.h5',\n",
    "    '-o', 'Libraries/hk_modisco/results/report/'\n",
    "]\n",
    "\n",
    "result_hk_report = subprocess.run(hk_report_cmd, capture_output=True, text=True)\n",
    "print(f\"HK report exit code: {result_hk_report.returncode}\")\n",
    "if result_hk_report.stdout:\n",
    "    print(f\"HK report stdout: {result_hk_report.stdout}\")\n",
    "if result_hk_report.stderr:\n",
    "    print(f\"HK report stderr: {result_hk_report.stderr}\")\n",
    "\n",
    "# Check if reports were generated\n",
    "dev_report_dir = 'Libraries/dev_modisco/results/report'\n",
    "hk_report_dir = 'Libraries/hk_modisco/results/report'\n",
    "\n",
    "print(\"\\nDEV Modisco Report:\")\n",
    "if os.path.exists(dev_report_dir):\n",
    "    print(f\"Report directory exists: {dev_report_dir}\")\n",
    "    print(\"Files in report directory:\")\n",
    "    for file in os.listdir(dev_report_dir):\n",
    "        print(f\"  - {file}\")\n",
    "else:\n",
    "    print(\"Report directory not found\")\n",
    "\n",
    "print(\"\\n\" + \"=\"*50 + \"\\n\")\n",
    "\n",
    "print(\"HK Modisco Report:\")\n",
    "if os.path.exists(hk_report_dir):\n",
    "    print(f\"Report directory exists: {hk_report_dir}\")\n",
    "    print(\"Files in report directory:\")\n",
    "    for file in os.listdir(hk_report_dir):\n",
    "        print(f\"  - {file}\")\n",
    "else:\n",
    "    print(\"Report directory not found\")"
   ]
  },
  {
   "cell_type": "code",
   "execution_count": null,
   "id": "2d6d00ea",
   "metadata": {},
   "outputs": [
    {
     "data": {
      "text/html": [
       "<table border=\"1\" class=\"dataframe\">\n",
       "  <thead>\n",
       "    <tr style=\"text-align: right;\">\n",
       "      <th>pattern</th>\n",
       "      <th>num_seqlets</th>\n",
       "      <th>modisco_cwm_fwd</th>\n",
       "      <th>modisco_cwm_rev</th>\n",
       "    </tr>\n",
       "  </thead>\n",
       "  <tbody>\n",
       "    <tr>\n",
       "      <td>pos_patterns.pattern_0</td>\n",
       "      <td>47</td>\n",
       "      <td><img src=\"./trimmed_logos/pos_patterns.pattern_0.cwm.fwd.png\" width=\"240\" ></td>\n",
       "      <td><img src=\"./trimmed_logos/pos_patterns.pattern_0.cwm.rev.png\" width=\"240\" ></td>\n",
       "    </tr>\n",
       "    <tr>\n",
       "      <td>pos_patterns.pattern_1</td>\n",
       "      <td>47</td>\n",
       "      <td><img src=\"./trimmed_logos/pos_patterns.pattern_1.cwm.fwd.png\" width=\"240\" ></td>\n",
       "      <td><img src=\"./trimmed_logos/pos_patterns.pattern_1.cwm.rev.png\" width=\"240\" ></td>\n",
       "    </tr>\n",
       "    <tr>\n",
       "      <td>pos_patterns.pattern_2</td>\n",
       "      <td>44</td>\n",
       "      <td><img src=\"./trimmed_logos/pos_patterns.pattern_2.cwm.fwd.png\" width=\"240\" ></td>\n",
       "      <td><img src=\"./trimmed_logos/pos_patterns.pattern_2.cwm.rev.png\" width=\"240\" ></td>\n",
       "    </tr>\n",
       "  </tbody>\n",
       "</table>"
      ],
      "text/plain": [
       "<IPython.core.display.HTML object>"
      ]
     },
     "execution_count": 62,
     "metadata": {},
     "output_type": "execute_result"
    },
    {
     "ename": "",
     "evalue": "",
     "output_type": "error",
     "traceback": [
      "\u001b[1;31mnotebook controller is DISPOSED. \n",
      "\u001b[1;31mView Jupyter <a href='command:jupyter.viewOutput'>log</a> for further details."
     ]
    },
    {
     "ename": "",
     "evalue": "",
     "output_type": "error",
     "traceback": [
      "\u001b[1;31mnotebook controller is DISPOSED. \n",
      "\u001b[1;31mView Jupyter <a href='command:jupyter.viewOutput'>log</a> for further details."
     ]
    }
   ],
   "source": [
    "HTML('Libraries/dev_modisco/results/report/motifs.html')\n"
   ]
  },
  {
   "cell_type": "code",
   "execution_count": null,
   "id": "26e9561e",
   "metadata": {},
   "outputs": [
    {
     "data": {
      "text/html": [
       "<table border=\"1\" class=\"dataframe\">\n",
       "  <thead>\n",
       "    <tr style=\"text-align: right;\">\n",
       "      <th>pattern</th>\n",
       "      <th>num_seqlets</th>\n",
       "      <th>modisco_cwm_fwd</th>\n",
       "      <th>modisco_cwm_rev</th>\n",
       "    </tr>\n",
       "  </thead>\n",
       "  <tbody>\n",
       "    <tr>\n",
       "      <td>pos_patterns.pattern_0</td>\n",
       "      <td>96</td>\n",
       "      <td><img src=\"./trimmed_logos/pos_patterns.pattern_0.cwm.fwd.png\" width=\"240\" ></td>\n",
       "      <td><img src=\"./trimmed_logos/pos_patterns.pattern_0.cwm.rev.png\" width=\"240\" ></td>\n",
       "    </tr>\n",
       "  </tbody>\n",
       "</table>"
      ],
      "text/plain": [
       "<IPython.core.display.HTML object>"
      ]
     },
     "execution_count": 63,
     "metadata": {},
     "output_type": "execute_result"
    },
    {
     "ename": "",
     "evalue": "",
     "output_type": "error",
     "traceback": [
      "\u001b[1;31mnotebook controller is DISPOSED. \n",
      "\u001b[1;31mView Jupyter <a href='command:jupyter.viewOutput'>log</a> for further details."
     ]
    },
    {
     "ename": "",
     "evalue": "",
     "output_type": "error",
     "traceback": [
      "\u001b[1;31mnotebook controller is DISPOSED. \n",
      "\u001b[1;31mView Jupyter <a href='command:jupyter.viewOutput'>log</a> for further details."
     ]
    }
   ],
   "source": [
    "HTML('Libraries/hk_modisco/results/report/motifs.html')"
   ]
  },
  {
   "cell_type": "code",
   "execution_count": null,
   "id": "4d0b0e2e",
   "metadata": {},
   "outputs": [
    {
     "name": "stdout",
     "output_type": "stream",
     "text": [
      "Downloading JASPAR database...\n",
      "Download exit code: 0\n",
      "JASPAR database downloaded successfully\n"
     ]
    },
    {
     "ename": "",
     "evalue": "",
     "output_type": "error",
     "traceback": [
      "\u001b[1;31mnotebook controller is DISPOSED. \n",
      "\u001b[1;31mView Jupyter <a href='command:jupyter.viewOutput'>log</a> for further details."
     ]
    },
    {
     "ename": "",
     "evalue": "",
     "output_type": "error",
     "traceback": [
      "\u001b[1;31mnotebook controller is DISPOSED. \n",
      "\u001b[1;31mView Jupyter <a href='command:jupyter.viewOutput'>log</a> for further details."
     ]
    }
   ],
   "source": [
    "# Download JASPAR database for TOMTOM comparison\n",
    "import subprocess\n",
    "import os\n",
    "\n",
    "# Create CEseek_data directory if it doesn't exist\n",
    "os.makedirs('CEseek_data', exist_ok=True)\n",
    "\n",
    "print(\"Downloading JASPAR database...\")\n",
    "download_cmd = [\n",
    "    'wget', '--quiet',\n",
    "    'https://jaspar.genereg.net/download/data/2022/CORE/JASPAR2022_CORE_vertebrates_non-redundant_pfms_meme.txt',\n",
    "    '-O', 'CEseek_data/JASPAR2022_CORE_vertebrates_non-redundant_pfms_meme.txt'\n",
    "]\n",
    "\n",
    "result_download = subprocess.run(download_cmd, capture_output=True, text=True)\n",
    "print(f\"Download exit code: {result_download.returncode}\")\n",
    "if result_download.stderr:\n",
    "    print(f\"Download stderr: {result_download.stderr}\")\n",
    "\n",
    "# Check if file was downloaded\n",
    "if os.path.exists('CEseek_data/JASPAR2022_CORE_vertebrates_non-redundant_pfms_meme.txt'):\n",
    "    print(\"JASPAR database downloaded successfully\")\n",
    "else:\n",
    "    print(\"Failed to download JASPAR database\")"
   ]
  },
  {
   "cell_type": "code",
   "execution_count": null,
   "id": "1995c20c",
   "metadata": {},
   "outputs": [
    {
     "name": "stdout",
     "output_type": "stream",
     "text": [
      "Running modisco report with TOMTOM for DEV library...\n",
      "DEV report with TOMTOM exit code: 0\n",
      "\n",
      "Running modisco report with TOMTOM for HK library...\n",
      "HK report with TOMTOM exit code: 0\n"
     ]
    },
    {
     "ename": "",
     "evalue": "",
     "output_type": "error",
     "traceback": [
      "\u001b[1;31mnotebook controller is DISPOSED. \n",
      "\u001b[1;31mView Jupyter <a href='command:jupyter.viewOutput'>log</a> for further details."
     ]
    },
    {
     "ename": "",
     "evalue": "",
     "output_type": "error",
     "traceback": [
      "\u001b[1;31mnotebook controller is DISPOSED. \n",
      "\u001b[1;31mView Jupyter <a href='command:jupyter.viewOutput'>log</a> for further details."
     ]
    }
   ],
   "source": [
    "# Run modisco report with TOMTOM comparison for DEV library\n",
    "print(\"Running modisco report with TOMTOM for DEV library...\")\n",
    "dev_report_cmd = [\n",
    "    'modisco', 'report',\n",
    "    '-i', 'Libraries/dev_modisco/results/modisco_results.h5',\n",
    "    '-o', 'Libraries/dev_modisco/results/report/',\n",
    "    '-s', 'Libraries/dev_modisco/results/report/',\n",
    "    '-m', 'CEseek_data/JASPAR2022_CORE_vertebrates_non-redundant_pfms_meme.txt'\n",
    "]\n",
    "\n",
    "result_dev_report = subprocess.run(dev_report_cmd, capture_output=True, text=True)\n",
    "print(f\"DEV report with TOMTOM exit code: {result_dev_report.returncode}\")\n",
    "if result_dev_report.stdout:\n",
    "    print(f\"DEV report stdout: {result_dev_report.stdout}\")\n",
    "if result_dev_report.stderr:\n",
    "    print(f\"DEV report stderr: {result_dev_report.stderr}\")\n",
    "\n",
    "# Run modisco report with TOMTOM comparison for HK library\n",
    "print(\"\\nRunning modisco report with TOMTOM for HK library...\")\n",
    "hk_report_cmd = [\n",
    "    'modisco', 'report',\n",
    "    '-i', 'Libraries/hk_modisco/results/modisco_results.h5',\n",
    "    '-o', 'Libraries/hk_modisco/results/report/',\n",
    "    '-s', 'Libraries/hk_modisco/results/report/',\n",
    "    '-m', 'CEseek_data/JASPAR2022_CORE_vertebrates_non-redundant_pfms_meme.txt'\n",
    "]\n",
    "\n",
    "result_hk_report = subprocess.run(hk_report_cmd, capture_output=True, text=True)\n",
    "print(f\"HK report with TOMTOM exit code: {result_hk_report.returncode}\")\n",
    "if result_hk_report.stdout:\n",
    "    print(f\"HK report stdout: {result_hk_report.stdout}\")\n",
    "if result_hk_report.stderr:\n",
    "    print(f\"HK report stderr: {result_hk_report.stderr}\")"
   ]
  },
  {
   "cell_type": "code",
   "execution_count": null,
   "id": "45cd6d29",
   "metadata": {},
   "outputs": [
    {
     "name": "stdout",
     "output_type": "stream",
     "text": [
      "DEV Modisco Report with TOMTOM:\n"
     ]
    },
    {
     "data": {
      "text/html": [
       "<table border=\"1\" class=\"dataframe\">\n",
       "  <thead>\n",
       "    <tr style=\"text-align: right;\">\n",
       "      <th>pattern</th>\n",
       "      <th>num_seqlets</th>\n",
       "      <th>modisco_cwm_fwd</th>\n",
       "      <th>modisco_cwm_rev</th>\n",
       "      <th>match0</th>\n",
       "      <th>qval0</th>\n",
       "      <th>match0_logo</th>\n",
       "      <th>match1</th>\n",
       "      <th>qval1</th>\n",
       "      <th>match1_logo</th>\n",
       "      <th>match2</th>\n",
       "      <th>qval2</th>\n",
       "      <th>match2_logo</th>\n",
       "    </tr>\n",
       "  </thead>\n",
       "  <tbody>\n",
       "    <tr>\n",
       "      <td>pos_patterns.pattern_0</td>\n",
       "      <td>47</td>\n",
       "      <td><img src=\"Libraries/dev_modisco/results/report/trimmed_logos/pos_patterns.pattern_0.cwm.fwd.png\" width=\"240\" ></td>\n",
       "      <td><img src=\"Libraries/dev_modisco/results/report/trimmed_logos/pos_patterns.pattern_0.cwm.rev.png\" width=\"240\" ></td>\n",
       "      <td>MA0754.2</td>\n",
       "      <td>1.000000</td>\n",
       "      <td><img src=\"Libraries/dev_modisco/results/report/MA0754.2.png\" width=\"240\" ></td>\n",
       "      <td>MA0755.1</td>\n",
       "      <td>1.000000</td>\n",
       "      <td><img src=\"Libraries/dev_modisco/results/report/MA0755.1.png\" width=\"240\" ></td>\n",
       "      <td>MA0660.1</td>\n",
       "      <td>1.000000</td>\n",
       "      <td><img src=\"Libraries/dev_modisco/results/report/MA0660.1.png\" width=\"240\" ></td>\n",
       "    </tr>\n",
       "    <tr>\n",
       "      <td>pos_patterns.pattern_1</td>\n",
       "      <td>47</td>\n",
       "      <td><img src=\"Libraries/dev_modisco/results/report/trimmed_logos/pos_patterns.pattern_1.cwm.fwd.png\" width=\"240\" ></td>\n",
       "      <td><img src=\"Libraries/dev_modisco/results/report/trimmed_logos/pos_patterns.pattern_1.cwm.rev.png\" width=\"240\" ></td>\n",
       "      <td>MA1141.1</td>\n",
       "      <td>0.000273</td>\n",
       "      <td><img src=\"Libraries/dev_modisco/results/report/MA1141.1.png\" width=\"240\" ></td>\n",
       "      <td>MA1142.1</td>\n",
       "      <td>0.000273</td>\n",
       "      <td><img src=\"Libraries/dev_modisco/results/report/MA1142.1.png\" width=\"240\" ></td>\n",
       "      <td>MA1988.1</td>\n",
       "      <td>0.000273</td>\n",
       "      <td><img src=\"Libraries/dev_modisco/results/report/MA1988.1.png\" width=\"240\" ></td>\n",
       "    </tr>\n",
       "    <tr>\n",
       "      <td>pos_patterns.pattern_2</td>\n",
       "      <td>44</td>\n",
       "      <td><img src=\"Libraries/dev_modisco/results/report/trimmed_logos/pos_patterns.pattern_2.cwm.fwd.png\" width=\"240\" ></td>\n",
       "      <td><img src=\"Libraries/dev_modisco/results/report/trimmed_logos/pos_patterns.pattern_2.cwm.rev.png\" width=\"240\" ></td>\n",
       "      <td>MA0036.3</td>\n",
       "      <td>0.325289</td>\n",
       "      <td><img src=\"Libraries/dev_modisco/results/report/MA0036.3.png\" width=\"240\" ></td>\n",
       "      <td>MA0037.4</td>\n",
       "      <td>0.325289</td>\n",
       "      <td><img src=\"Libraries/dev_modisco/results/report/MA0037.4.png\" width=\"240\" ></td>\n",
       "      <td>MA0482.2</td>\n",
       "      <td>0.325289</td>\n",
       "      <td><img src=\"Libraries/dev_modisco/results/report/MA0482.2.png\" width=\"240\" ></td>\n",
       "    </tr>\n",
       "  </tbody>\n",
       "</table>"
      ],
      "text/plain": [
       "<IPython.core.display.HTML object>"
      ]
     },
     "execution_count": 66,
     "metadata": {},
     "output_type": "execute_result"
    },
    {
     "ename": "",
     "evalue": "",
     "output_type": "error",
     "traceback": [
      "\u001b[1;31mnotebook controller is DISPOSED. \n",
      "\u001b[1;31mView Jupyter <a href='command:jupyter.viewOutput'>log</a> for further details."
     ]
    },
    {
     "ename": "",
     "evalue": "",
     "output_type": "error",
     "traceback": [
      "\u001b[1;31mnotebook controller is DISPOSED. \n",
      "\u001b[1;31mView Jupyter <a href='command:jupyter.viewOutput'>log</a> for further details."
     ]
    }
   ],
   "source": [
    "# Display the updated reports with TOMTOM comparisons\n",
    "from IPython.display import HTML\n",
    "\n",
    "print(\"DEV Modisco Report with TOMTOM:\")\n",
    "HTML('Libraries/dev_modisco/results/report/motifs.html')"
   ]
  },
  {
   "cell_type": "code",
   "execution_count": null,
   "id": "6e39cd33",
   "metadata": {},
   "outputs": [
    {
     "name": "stdout",
     "output_type": "stream",
     "text": [
      "HK Modisco Report with TOMTOM:\n"
     ]
    },
    {
     "data": {
      "text/html": [
       "<table border=\"1\" class=\"dataframe\">\n",
       "  <thead>\n",
       "    <tr style=\"text-align: right;\">\n",
       "      <th>pattern</th>\n",
       "      <th>num_seqlets</th>\n",
       "      <th>modisco_cwm_fwd</th>\n",
       "      <th>modisco_cwm_rev</th>\n",
       "      <th>match0</th>\n",
       "      <th>qval0</th>\n",
       "      <th>match0_logo</th>\n",
       "      <th>match1</th>\n",
       "      <th>qval1</th>\n",
       "      <th>match1_logo</th>\n",
       "      <th>match2</th>\n",
       "      <th>qval2</th>\n",
       "      <th>match2_logo</th>\n",
       "    </tr>\n",
       "  </thead>\n",
       "  <tbody>\n",
       "    <tr>\n",
       "      <td>pos_patterns.pattern_0</td>\n",
       "      <td>96</td>\n",
       "      <td><img src=\"Libraries/hk_modisco/results/report/trimmed_logos/pos_patterns.pattern_0.cwm.fwd.png\" width=\"240\" ></td>\n",
       "      <td><img src=\"Libraries/hk_modisco/results/report/trimmed_logos/pos_patterns.pattern_0.cwm.rev.png\" width=\"240\" ></td>\n",
       "      <td>MA0755.1</td>\n",
       "      <td>0.260965</td>\n",
       "      <td><img src=\"Libraries/hk_modisco/results/report/MA0755.1.png\" width=\"240\" ></td>\n",
       "      <td>MA0756.2</td>\n",
       "      <td>0.283614</td>\n",
       "      <td><img src=\"Libraries/hk_modisco/results/report/MA0756.2.png\" width=\"240\" ></td>\n",
       "      <td>MA1718.1</td>\n",
       "      <td>1.0</td>\n",
       "      <td><img src=\"Libraries/hk_modisco/results/report/MA1718.1.png\" width=\"240\" ></td>\n",
       "    </tr>\n",
       "  </tbody>\n",
       "</table>"
      ],
      "text/plain": [
       "<IPython.core.display.HTML object>"
      ]
     },
     "execution_count": 115,
     "metadata": {},
     "output_type": "execute_result"
    },
    {
     "ename": "",
     "evalue": "",
     "output_type": "error",
     "traceback": [
      "\u001b[1;31mnotebook controller is DISPOSED. \n",
      "\u001b[1;31mView Jupyter <a href='command:jupyter.viewOutput'>log</a> for further details."
     ]
    },
    {
     "ename": "",
     "evalue": "",
     "output_type": "error",
     "traceback": [
      "\u001b[1;31mnotebook controller is DISPOSED. \n",
      "\u001b[1;31mView Jupyter <a href='command:jupyter.viewOutput'>log</a> for further details."
     ]
    }
   ],
   "source": [
    "print(\"HK Modisco Report with TOMTOM:\")\n",
    "HTML('Libraries/hk_modisco/results/report/motifs.html')"
   ]
  },
  {
   "cell_type": "code",
   "execution_count": null,
   "id": "2f471724",
   "metadata": {},
   "outputs": [
    {
     "name": "stdout",
     "output_type": "stream",
     "text": [
      "Extracting TOMTOM motif names from HTML reports...\n",
      "DEV TOMTOM motifs: {'pos_patterns.pattern_0': 'MA0754.2', 'pos_patterns.pattern_1': 'MA1141.1', 'pos_patterns.pattern_2': 'MA0036.3'}\n",
      "HK TOMTOM motifs: {'pos_patterns.pattern_0': 'MA0755.1'}\n",
      "DEV TOMTOM simple: {'pattern_0': 'MA0754.2', 'pattern_1': 'MA1141.1', 'pattern_2': 'MA0036.3'}\n",
      "HK TOMTOM simple: {'pattern_0': 'MA0755.1'}\n",
      "\n",
      "DEV Library motif names summary:\n",
      "Sequences with motifs: 117\n",
      "Unique motif names found: {'MA0036.3', 'MA0754.2', 'MA1141.1'}\n",
      "\n",
      "HK Library motif names summary:\n",
      "Sequences with motifs: 90\n",
      "Unique motif names found: {'MA0755.1'}\n",
      "\n",
      "Example DEV sequences with TOMTOM motif names:\n",
      "  Sequence 208: MA0036.3\n",
      "  Sequence 135: MA1141.1\n",
      "  Sequence 275: MA1141.1\n",
      "\n",
      "Example HK sequences with TOMTOM motif names:\n",
      "  Sequence 3: MA0755.1\n",
      "  Sequence 5: MA0755.1\n",
      "  Sequence 6: MA0755.1\n",
      "\n",
      "Updated DataFrames saved with TOMTOM motif names\n"
     ]
    },
    {
     "ename": "",
     "evalue": "",
     "output_type": "error",
     "traceback": [
      "\u001b[1;31mnotebook controller is DISPOSED. \n",
      "\u001b[1;31mView Jupyter <a href='command:jupyter.viewOutput'>log</a> for further details."
     ]
    },
    {
     "ename": "",
     "evalue": "",
     "output_type": "error",
     "traceback": [
      "\u001b[1;31mnotebook controller is DISPOSED. \n",
      "\u001b[1;31mView Jupyter <a href='command:jupyter.viewOutput'>log</a> for further details."
     ]
    }
   ],
   "source": [
    "import re\n",
    "import pandas as pd\n",
    "from bs4 import BeautifulSoup\n",
    "\n",
    "def extract_tomtom_from_html(html_file):\n",
    "    \"\"\"Extract TOMTOM motif names from the HTML report.\"\"\"\n",
    "    with open(html_file, 'r') as f:\n",
    "        html_content = f.read()\n",
    "    \n",
    "    soup = BeautifulSoup(html_content, 'html.parser')\n",
    "    table = soup.find('table')\n",
    "    \n",
    "    tomtom_motifs = {}\n",
    "    \n",
    "    if table:\n",
    "        rows = table.find_all('tr')[1:]  # Skip header row\n",
    "        \n",
    "        for row in rows:\n",
    "            cells = row.find_all('td')\n",
    "            if len(cells) >= 4:\n",
    "                pattern_name = cells[0].text.strip()\n",
    "                # TOMTOM matches are in cells 4, 7, 10 (every 3rd cell starting from 4)\n",
    "                tomtom_matches = []\n",
    "                for i in [4, 7, 10]:  # Specific cells with TOMTOM matches\n",
    "                    if i < len(cells):\n",
    "                        match_text = cells[i].text.strip()\n",
    "                        if match_text and match_text != '-':\n",
    "                            tomtom_matches.append(match_text)\n",
    "                \n",
    "                if tomtom_matches:\n",
    "                    # Use the first (best) match\n",
    "                    tomtom_motifs[pattern_name] = tomtom_matches[0]\n",
    "                else:\n",
    "                    tomtom_motifs[pattern_name] = pattern_name\n",
    "    \n",
    "    return tomtom_motifs\n",
    "\n",
    "# Extract TOMTOM motif names from HTML reports\n",
    "print(\"Extracting TOMTOM motif names from HTML reports...\")\n",
    "dev_tomtom_motifs = extract_tomtom_from_html('Libraries/dev_modisco/results/report/motifs.html')\n",
    "hk_tomtom_motifs = extract_tomtom_from_html('Libraries/hk_modisco/results/report/motifs.html')\n",
    "\n",
    "print(f\"DEV TOMTOM motifs: {dev_tomtom_motifs}\")\n",
    "print(f\"HK TOMTOM motifs: {hk_tomtom_motifs}\")\n",
    "\n",
    "# Create simplified mapping (remove 'pos_patterns.' prefix)\n",
    "dev_tomtom_simple = {}\n",
    "for key, value in dev_tomtom_motifs.items():\n",
    "    simple_key = key.replace('pos_patterns.', '')\n",
    "    dev_tomtom_simple[simple_key] = value\n",
    "\n",
    "hk_tomtom_simple = {}\n",
    "for key, value in hk_tomtom_motifs.items():\n",
    "    simple_key = key.replace('pos_patterns.', '')\n",
    "    hk_tomtom_simple[simple_key] = value\n",
    "\n",
    "print(f\"DEV TOMTOM simple: {dev_tomtom_simple}\")\n",
    "print(f\"HK TOMTOM simple: {hk_tomtom_simple}\")\n",
    "\n",
    "def replace_with_tomtom_names(motif_string, tomtom_mapping):\n",
    "    \"\"\"Replace pattern names with TOMTOM motif names.\"\"\"\n",
    "    if motif_string == 'No motifs found':\n",
    "        return 'No motifs found'\n",
    "    \n",
    "    # Split by semicolon and replace pattern names\n",
    "    motifs = motif_string.split('; ')\n",
    "    motif_names = []\n",
    "    \n",
    "    for motif in motifs:\n",
    "        # Extract the pattern name (everything before the first parenthesis)\n",
    "        pattern_name = motif.split('(')[0]\n",
    "        \n",
    "        # Replace with TOMTOM name if available\n",
    "        if pattern_name in tomtom_mapping:\n",
    "            motif_names.append(tomtom_mapping[pattern_name])\n",
    "        else:\n",
    "            motif_names.append(pattern_name)\n",
    "    \n",
    "    # Remove duplicates and join\n",
    "    unique_motifs = list(set(motif_names))\n",
    "    return '; '.join(unique_motifs)\n",
    "\n",
    "# Update motif_names column with TOMTOM names\n",
    "dev_library['motif_names'] = dev_library['TOMTOM_motifs'].apply(\n",
    "    lambda x: replace_with_tomtom_names(x, dev_tomtom_simple)\n",
    ")\n",
    "\n",
    "hk_library['motif_names'] = hk_library['TOMTOM_motifs'].apply(\n",
    "    lambda x: replace_with_tomtom_names(x, hk_tomtom_simple)\n",
    ")\n",
    "\n",
    "\n",
    "\n",
    "# Display summary\n",
    "print(\"\\nDEV Library motif names summary:\")\n",
    "dev_motif_names = dev_library[dev_library['motif_names'] != 'No motifs found']['motif_names']\n",
    "print(f\"Sequences with motifs: {len(dev_motif_names)}\")\n",
    "print(f\"Unique motif names found: {set('; '.join(dev_motif_names).split('; '))}\")\n",
    "\n",
    "print(\"\\nHK Library motif names summary:\")\n",
    "hk_motif_names = hk_library[hk_library['motif_names'] != 'No motifs found']['motif_names']\n",
    "print(f\"Sequences with motifs: {len(hk_motif_names)}\")\n",
    "print(f\"Unique motif names found: {set('; '.join(hk_motif_names).split('; '))}\")\n",
    "\n",
    "# Show some examples\n",
    "print(f\"\\nExample DEV sequences with TOMTOM motif names:\")\n",
    "if len(dev_motif_names) > 0:\n",
    "    for i, (idx, row) in enumerate(dev_library[dev_library['motif_names'] != 'No motifs found'].head(3).iterrows()):\n",
    "        print(f\"  Sequence {idx}: {row['motif_names']}\")\n",
    "\n",
    "print(f\"\\nExample HK sequences with TOMTOM motif names:\")\n",
    "if len(hk_motif_names) > 0:\n",
    "    for i, (idx, row) in enumerate(hk_library[hk_library['motif_names'] != 'No motifs found'].head(3).iterrows()):\n",
    "        print(f\"  Sequence {idx}: {row['motif_names']}\")\n",
    "\n",
    "# Save updated DataFrames\n",
    "dev_library.to_csv('Libraries/dev_modisco/dev_library_with_motifs.csv', index=True)\n",
    "hk_library.to_csv('Libraries/hk_modisco/hk_library_with_motifs.csv', index=True)\n",
    "\n",
    "print(f\"\\nUpdated DataFrames saved with TOMTOM motif names\")"
   ]
  },
  {
   "cell_type": "code",
   "execution_count": null,
   "id": "d57b4a8e",
   "metadata": {},
   "outputs": [
    {
     "data": {
      "text/html": [
       "<div>\n",
       "<style scoped>\n",
       "    .dataframe tbody tr th:only-of-type {\n",
       "        vertical-align: middle;\n",
       "    }\n",
       "\n",
       "    .dataframe tbody tr th {\n",
       "        vertical-align: top;\n",
       "    }\n",
       "\n",
       "    .dataframe thead th {\n",
       "        text-align: right;\n",
       "    }\n",
       "</style>\n",
       "<table border=\"1\" class=\"dataframe\">\n",
       "  <thead>\n",
       "    <tr style=\"text-align: right;\">\n",
       "      <th></th>\n",
       "      <th>ce_name</th>\n",
       "      <th>orientation</th>\n",
       "      <th>ce_sequence</th>\n",
       "      <th>endogenous_sequence</th>\n",
       "      <th>pseudo_index</th>\n",
       "      <th>log2_fc</th>\n",
       "      <th>p_value</th>\n",
       "      <th>dataset</th>\n",
       "      <th>EvoAug_predictions</th>\n",
       "      <th>TOMTOM_motifs</th>\n",
       "      <th>motif_names</th>\n",
       "    </tr>\n",
       "  </thead>\n",
       "  <tbody>\n",
       "    <tr>\n",
       "      <th>281</th>\n",
       "      <td>('Dref', 'GATAe', '+', '+', -5)</td>\n",
       "      <td>+</td>\n",
       "      <td>TATCGATAAT</td>\n",
       "      <td>TATATCTGTAGCTCAACACCTGACTGCTATCGAATGTTTTGGTATTTATTTTTATCGAAGTATTTTGCCGAAATTTGTGATTTGCCAGCCCTATTTCAATGTAAATATATCGATAATCGCCCGATTTTACTGAAAAATATTTCGATAAGAGCATCGATATTTCAAACAAATATCGACCCATTGACATGCGTCAGGTTTGTCCATCCCTAACAAAATCGTAGTACGAAATATCGAAAACGAAACACATCA</td>\n",
       "      <td>5585</td>\n",
       "      <td>4.574315</td>\n",
       "      <td>5.067241e-114</td>\n",
       "      <td>dev</td>\n",
       "      <td>5.307164</td>\n",
       "      <td>No motifs found</td>\n",
       "      <td>No motifs found</td>\n",
       "    </tr>\n",
       "    <tr>\n",
       "      <th>59</th>\n",
       "      <td>('Jra', 'Jra', '-', '+', 10)</td>\n",
       "      <td>+</td>\n",
       "      <td>AGTGACTAATCTACTTACAAGTGAATCACG</td>\n",
       "      <td>AATCAGTTGAAATTTATACCTCATCGTCGACAATGCGAGTCGTCGCGTTCCCATTGTTTACAAAATGTACCATAAAGATTGCGAGCGAGAGAATTTGATTAGTGACTAATCTACTTACAAGTGAATCACGCGATCCAAAAATATTCATACAGAGCATTTTATCATTCGATTCGCTTTGCACCGAAACTCGGGACATTTCCACTGGGTGGGCAATCAATCAAGACCCATTTCGCCTAAACCTAAACATAT</td>\n",
       "      <td>2590</td>\n",
       "      <td>5.321928</td>\n",
       "      <td>1.763198e-07</td>\n",
       "      <td>dev</td>\n",
       "      <td>5.268528</td>\n",
       "      <td>pattern_1(104-154,fwd); pattern_1(76-126,rev)</td>\n",
       "      <td>MA1141.1</td>\n",
       "    </tr>\n",
       "    <tr>\n",
       "      <th>167</th>\n",
       "      <td>('Dref', 'Dref', '-', '+', 4)</td>\n",
       "      <td>+</td>\n",
       "      <td>TATCGATATCACTATCGATA</td>\n",
       "      <td>TTATTAGCCGGCAAAATTGGTGGGTAAACAACAAATATTTGGACAAAAGCGCAGACAAGAACTGATAAGAGGATCAGGGATGACGAATTTCAAATGGTTGCGCCAGAGATGACAGGGTATCGATATCACTATCGATAGACTTATCGAAGACGGCTTAGCACTTATACCTACTCTGCAGCCCTGGTCGGCAGAAAAACAATAATCAGCTGATGCCATCGCTTATTTCCAACAATTTGCACCGCAAAAGTG</td>\n",
       "      <td>19539</td>\n",
       "      <td>38.219281</td>\n",
       "      <td>4.230561e-34</td>\n",
       "      <td>dev</td>\n",
       "      <td>5.127045</td>\n",
       "      <td>pattern_0(104-154,rev)</td>\n",
       "      <td>MA0754.2</td>\n",
       "    </tr>\n",
       "    <tr>\n",
       "      <th>226</th>\n",
       "      <td>('Jra', 'twi', '+', '-', 4)</td>\n",
       "      <td>+</td>\n",
       "      <td>GTGAATCACATCGACATATGT</td>\n",
       "      <td>GACTTTTCATTCCATTGTTCTTGGTTCTCGGAAGTATCAACTTATTGCCGAACTCGTGATTTAGTCTTATCGTTGTTTTTTTCTGGTTTTAGATATACATATGTTTTCTTTTATGCTAACTTCTGTCAGTGAATCACATCGACATATGTATTTGCATTGATATCTTGCGGATTTCCGAATGCCAGTAACGACGATTCACTGTACTTGGTTGGCGGAGCGCAATCTTTGTTCGAGAGAGTTCGTTTGCCA</td>\n",
       "      <td>626</td>\n",
       "      <td>34.219281</td>\n",
       "      <td>8.262587e-03</td>\n",
       "      <td>dev</td>\n",
       "      <td>5.113298</td>\n",
       "      <td>pattern_1(112-162,fwd)</td>\n",
       "      <td>MA1141.1</td>\n",
       "    </tr>\n",
       "    <tr>\n",
       "      <th>61</th>\n",
       "      <td>('Dref', 'Max', '-', '+', 6)</td>\n",
       "      <td>+</td>\n",
       "      <td>TATCGATATTTGATAGCACGTG</td>\n",
       "      <td>TAATTAAGAGCAACAACAACAAACTTAGTAATGACACCCAAATAGAGATGAGCGATAGTTAATCACCTGTTATCAGCGCACAGCCAACGCTCATCCCTAAGCCTGCTGAGCAGCTGTTTCGACAATCGCTATCGATATATCTTGTTTAAACTTGCTATCGATATTTGATAGCACGTGTTGGGTTGTTCGCAATTTACGAATTGTATCTTTGTTAGTTATCCGCAATTTACATTTAAAACGAAGTAGATT</td>\n",
       "      <td>10613</td>\n",
       "      <td>35.219281</td>\n",
       "      <td>6.820836e-05</td>\n",
       "      <td>dev</td>\n",
       "      <td>5.038004</td>\n",
       "      <td>pattern_0(100-150,fwd); pattern_0(142-192,rev)</td>\n",
       "      <td>MA0754.2</td>\n",
       "    </tr>\n",
       "  </tbody>\n",
       "</table>\n",
       "</div>"
      ],
      "text/plain": [
       "                             ce_name orientation  \\\n",
       "281  ('Dref', 'GATAe', '+', '+', -5)           +   \n",
       "59      ('Jra', 'Jra', '-', '+', 10)           +   \n",
       "167    ('Dref', 'Dref', '-', '+', 4)           +   \n",
       "226      ('Jra', 'twi', '+', '-', 4)           +   \n",
       "61      ('Dref', 'Max', '-', '+', 6)           +   \n",
       "\n",
       "                        ce_sequence  \\\n",
       "281                      TATCGATAAT   \n",
       "59   AGTGACTAATCTACTTACAAGTGAATCACG   \n",
       "167            TATCGATATCACTATCGATA   \n",
       "226           GTGAATCACATCGACATATGT   \n",
       "61           TATCGATATTTGATAGCACGTG   \n",
       "\n",
       "                                                                                                                                                                                                                                           endogenous_sequence  \\\n",
       "281  TATATCTGTAGCTCAACACCTGACTGCTATCGAATGTTTTGGTATTTATTTTTATCGAAGTATTTTGCCGAAATTTGTGATTTGCCAGCCCTATTTCAATGTAAATATATCGATAATCGCCCGATTTTACTGAAAAATATTTCGATAAGAGCATCGATATTTCAAACAAATATCGACCCATTGACATGCGTCAGGTTTGTCCATCCCTAACAAAATCGTAGTACGAAATATCGAAAACGAAACACATCA   \n",
       "59   AATCAGTTGAAATTTATACCTCATCGTCGACAATGCGAGTCGTCGCGTTCCCATTGTTTACAAAATGTACCATAAAGATTGCGAGCGAGAGAATTTGATTAGTGACTAATCTACTTACAAGTGAATCACGCGATCCAAAAATATTCATACAGAGCATTTTATCATTCGATTCGCTTTGCACCGAAACTCGGGACATTTCCACTGGGTGGGCAATCAATCAAGACCCATTTCGCCTAAACCTAAACATAT   \n",
       "167  TTATTAGCCGGCAAAATTGGTGGGTAAACAACAAATATTTGGACAAAAGCGCAGACAAGAACTGATAAGAGGATCAGGGATGACGAATTTCAAATGGTTGCGCCAGAGATGACAGGGTATCGATATCACTATCGATAGACTTATCGAAGACGGCTTAGCACTTATACCTACTCTGCAGCCCTGGTCGGCAGAAAAACAATAATCAGCTGATGCCATCGCTTATTTCCAACAATTTGCACCGCAAAAGTG   \n",
       "226  GACTTTTCATTCCATTGTTCTTGGTTCTCGGAAGTATCAACTTATTGCCGAACTCGTGATTTAGTCTTATCGTTGTTTTTTTCTGGTTTTAGATATACATATGTTTTCTTTTATGCTAACTTCTGTCAGTGAATCACATCGACATATGTATTTGCATTGATATCTTGCGGATTTCCGAATGCCAGTAACGACGATTCACTGTACTTGGTTGGCGGAGCGCAATCTTTGTTCGAGAGAGTTCGTTTGCCA   \n",
       "61   TAATTAAGAGCAACAACAACAAACTTAGTAATGACACCCAAATAGAGATGAGCGATAGTTAATCACCTGTTATCAGCGCACAGCCAACGCTCATCCCTAAGCCTGCTGAGCAGCTGTTTCGACAATCGCTATCGATATATCTTGTTTAAACTTGCTATCGATATTTGATAGCACGTGTTGGGTTGTTCGCAATTTACGAATTGTATCTTTGTTAGTTATCCGCAATTTACATTTAAAACGAAGTAGATT   \n",
       "\n",
       "     pseudo_index    log2_fc        p_value dataset  EvoAug_predictions  \\\n",
       "281          5585   4.574315  5.067241e-114     dev            5.307164   \n",
       "59           2590   5.321928   1.763198e-07     dev            5.268528   \n",
       "167         19539  38.219281   4.230561e-34     dev            5.127045   \n",
       "226           626  34.219281   8.262587e-03     dev            5.113298   \n",
       "61          10613  35.219281   6.820836e-05     dev            5.038004   \n",
       "\n",
       "                                      TOMTOM_motifs      motif_names  \n",
       "281                                 No motifs found  No motifs found  \n",
       "59    pattern_1(104-154,fwd); pattern_1(76-126,rev)         MA1141.1  \n",
       "167                          pattern_0(104-154,rev)         MA0754.2  \n",
       "226                          pattern_1(112-162,fwd)         MA1141.1  \n",
       "61   pattern_0(100-150,fwd); pattern_0(142-192,rev)         MA0754.2  "
      ]
     },
     "execution_count": 103,
     "metadata": {},
     "output_type": "execute_result"
    },
    {
     "ename": "",
     "evalue": "",
     "output_type": "error",
     "traceback": [
      "\u001b[1;31mnotebook controller is DISPOSED. \n",
      "\u001b[1;31mView Jupyter <a href='command:jupyter.viewOutput'>log</a> for further details."
     ]
    },
    {
     "ename": "",
     "evalue": "",
     "output_type": "error",
     "traceback": [
      "\u001b[1;31mnotebook controller is DISPOSED. \n",
      "\u001b[1;31mView Jupyter <a href='command:jupyter.viewOutput'>log</a> for further details."
     ]
    }
   ],
   "source": [
    "dev_library.sort_values(by='EvoAug_predictions', ascending=False).head(5)\n"
   ]
  },
  {
   "cell_type": "code",
   "execution_count": null,
   "id": "17a2b6f0",
   "metadata": {},
   "outputs": [
    {
     "name": "stdout",
     "output_type": "stream",
     "text": [
      "Extracting TF names from JASPAR database...\n",
      "\n",
      "TF names for our MA codes:\n",
      "  MA0754.2: CUX1\n",
      "  MA1141.1: FOS::JUND\n",
      "  MA0036.3: GATA2\n",
      "  MA0755.1: CUX2\n",
      "\n",
      "Updating motif names with actual TF names...\n",
      "\n",
      "DEV Library motif names summary (with TF names):\n",
      "Sequences with motifs: 117\n",
      "Unique motif names found: {'CUX1', 'GATA2', 'FOS::JUND'}\n",
      "\n",
      "HK Library motif names summary (with TF names):\n",
      "Sequences with motifs: 90\n",
      "Unique motif names found: {'CUX2'}\n",
      "\n",
      "Example DEV sequences with TF names:\n",
      "  Sequence 208: GATA2\n",
      "  Sequence 135: FOS::JUND\n",
      "  Sequence 275: FOS::JUND\n",
      "\n",
      "Example HK sequences with TF names:\n",
      "  Sequence 3: CUX2\n",
      "  Sequence 5: CUX2\n",
      "  Sequence 6: CUX2\n",
      "\n",
      "Updated DataFrames saved with actual TF names\n"
     ]
    },
    {
     "ename": "",
     "evalue": "",
     "output_type": "error",
     "traceback": [
      "\u001b[1;31mnotebook controller is DISPOSED. \n",
      "\u001b[1;31mView Jupyter <a href='command:jupyter.viewOutput'>log</a> for further details."
     ]
    },
    {
     "ename": "",
     "evalue": "",
     "output_type": "error",
     "traceback": [
      "\u001b[1;31mnotebook controller is DISPOSED. \n",
      "\u001b[1;31mView Jupyter <a href='command:jupyter.viewOutput'>log</a> for further details."
     ]
    }
   ],
   "source": [
    "import re\n",
    "\n",
    "def extract_tf_names_from_jaspar(jaspar_file):\n",
    "    \"\"\"Extract TF names from JASPAR database file.\"\"\"\n",
    "    tf_names = {}\n",
    "    \n",
    "    with open(jaspar_file, 'r') as f:\n",
    "        content = f.read()\n",
    "    \n",
    "    # Find all MOTIF lines\n",
    "    motif_lines = re.findall(r'MOTIF (MA\\d+\\.\\d+) (MA\\d+\\.\\d+\\.(.+))', content)\n",
    "    \n",
    "    for ma_code, full_name, tf_name in motif_lines:\n",
    "        tf_names[ma_code] = tf_name\n",
    "    \n",
    "    return tf_names\n",
    "\n",
    "# Extract TF names from JASPAR database in CEseek_data folder\n",
    "print(\"Extracting TF names from JASPAR database...\")\n",
    "jaspar_file_path = 'CEseek_data/JASPAR2022_CORE_vertebrates_non-redundant_pfms_meme.txt'\n",
    "tf_names = extract_tf_names_from_jaspar(jaspar_file_path)\n",
    "\n",
    "# Check what we found for our specific MA codes\n",
    "our_ma_codes = ['MA0754.2', 'MA1141.1', 'MA0036.3', 'MA0755.1']\n",
    "print(f\"\\nTF names for our MA codes:\")\n",
    "for ma_code in our_ma_codes:\n",
    "    if ma_code in tf_names:\n",
    "        print(f\"  {ma_code}: {tf_names[ma_code]}\")\n",
    "    else:\n",
    "        print(f\"  {ma_code}: Not found\")\n",
    "\n",
    "def replace_ma_codes_with_tf_names(motif_string, tf_mapping):\n",
    "    \"\"\"Replace MA codes with actual TF names.\"\"\"\n",
    "    if motif_string == 'No motifs found':\n",
    "        return 'No motifs found'\n",
    "    \n",
    "    # Split by semicolon and replace MA codes\n",
    "    motifs = motif_string.split('; ')\n",
    "    tf_names = []\n",
    "    \n",
    "    for motif in motifs:\n",
    "        # Check if this motif contains an MA code\n",
    "        for ma_code, tf_name in tf_mapping.items():\n",
    "            if ma_code in motif:\n",
    "                # Replace MA code with TF name\n",
    "                motif = motif.replace(ma_code, tf_name)\n",
    "                break\n",
    "        tf_names.append(motif)\n",
    "    \n",
    "    # Remove duplicates and join\n",
    "    unique_motifs = list(set(tf_names))\n",
    "    return '; '.join(unique_motifs)\n",
    "\n",
    "# Update motif_names column with actual TF names\n",
    "print(\"\\nUpdating motif names with actual TF names...\")\n",
    "dev_library['motif_names'] = dev_library['motif_names'].apply(\n",
    "    lambda x: replace_ma_codes_with_tf_names(x, tf_names)\n",
    ")\n",
    "\n",
    "hk_library['motif_names'] = hk_library['motif_names'].apply(\n",
    "    lambda x: replace_ma_codes_with_tf_names(x, tf_names)\n",
    ")\n",
    "\n",
    "# Display summary\n",
    "print(\"\\nDEV Library motif names summary (with TF names):\")\n",
    "dev_motif_names = dev_library[dev_library['motif_names'] != 'No motifs found']['motif_names']\n",
    "print(f\"Sequences with motifs: {len(dev_motif_names)}\")\n",
    "print(f\"Unique motif names found: {set('; '.join(dev_motif_names).split('; '))}\")\n",
    "\n",
    "print(\"\\nHK Library motif names summary (with TF names):\")\n",
    "hk_motif_names = hk_library[hk_library['motif_names'] != 'No motifs found']['motif_names']\n",
    "print(f\"Sequences with motifs: {len(hk_motif_names)}\")\n",
    "print(f\"Unique motif names found: {set('; '.join(hk_motif_names).split('; '))}\")\n",
    "\n",
    "# Show some examples\n",
    "print(f\"\\nExample DEV sequences with TF names:\")\n",
    "if len(dev_motif_names) > 0:\n",
    "    for i, (idx, row) in enumerate(dev_library[dev_library['motif_names'] != 'No motifs found'].head(3).iterrows()):\n",
    "        print(f\"  Sequence {idx}: {row['motif_names']}\")\n",
    "\n",
    "print(f\"\\nExample HK sequences with TF names:\")\n",
    "if len(hk_motif_names) > 0:\n",
    "    for i, (idx, row) in enumerate(hk_library[hk_library['motif_names'] != 'No motifs found'].head(3).iterrows()):\n",
    "        print(f\"  Sequence {idx}: {row['motif_names']}\")\n",
    "\n",
    "# Save updated DataFrames\n",
    "dev_library.to_csv('Libraries/dev_modisco/dev_library_with_motifs.csv', index=True)\n",
    "hk_library.to_csv('Libraries/hk_modisco/hk_library_with_motifs.csv', index=True)\n",
    "\n",
    "print(f\"\\nUpdated DataFrames saved with actual TF names\")"
   ]
  },
  {
   "cell_type": "code",
   "execution_count": null,
   "id": "f52d72bc",
   "metadata": {},
   "outputs": [
    {
     "data": {
      "text/html": [
       "<div>\n",
       "<style scoped>\n",
       "    .dataframe tbody tr th:only-of-type {\n",
       "        vertical-align: middle;\n",
       "    }\n",
       "\n",
       "    .dataframe tbody tr th {\n",
       "        vertical-align: top;\n",
       "    }\n",
       "\n",
       "    .dataframe thead th {\n",
       "        text-align: right;\n",
       "    }\n",
       "</style>\n",
       "<table border=\"1\" class=\"dataframe\">\n",
       "  <thead>\n",
       "    <tr style=\"text-align: right;\">\n",
       "      <th></th>\n",
       "      <th>ce_name</th>\n",
       "      <th>orientation</th>\n",
       "      <th>ce_sequence</th>\n",
       "      <th>endogenous_sequence</th>\n",
       "      <th>pseudo_index</th>\n",
       "      <th>log2_fc</th>\n",
       "      <th>p_value</th>\n",
       "      <th>dataset</th>\n",
       "      <th>EvoAug_predictions</th>\n",
       "      <th>TOMTOM_motifs</th>\n",
       "      <th>motif_names</th>\n",
       "    </tr>\n",
       "  </thead>\n",
       "  <tbody>\n",
       "    <tr>\n",
       "      <th>281</th>\n",
       "      <td>('Dref', 'GATAe', '+', '+', -5)</td>\n",
       "      <td>+</td>\n",
       "      <td>TATCGATAAT</td>\n",
       "      <td>TATATCTGTAGCTCAACACCTGACTGCTATCGAATGTTTTGGTATTTATTTTTATCGAAGTATTTTGCCGAAATTTGTGATTTGCCAGCCCTATTTCAATGTAAATATATCGATAATCGCCCGATTTTACTGAAAAATATTTCGATAAGAGCATCGATATTTCAAACAAATATCGACCCATTGACATGCGTCAGGTTTGTCCATCCCTAACAAAATCGTAGTACGAAATATCGAAAACGAAACACATCA</td>\n",
       "      <td>5585</td>\n",
       "      <td>4.574315</td>\n",
       "      <td>5.067241e-114</td>\n",
       "      <td>dev</td>\n",
       "      <td>5.307164</td>\n",
       "      <td>No motifs found</td>\n",
       "      <td>No motifs found</td>\n",
       "    </tr>\n",
       "    <tr>\n",
       "      <th>59</th>\n",
       "      <td>('Jra', 'Jra', '-', '+', 10)</td>\n",
       "      <td>+</td>\n",
       "      <td>AGTGACTAATCTACTTACAAGTGAATCACG</td>\n",
       "      <td>AATCAGTTGAAATTTATACCTCATCGTCGACAATGCGAGTCGTCGCGTTCCCATTGTTTACAAAATGTACCATAAAGATTGCGAGCGAGAGAATTTGATTAGTGACTAATCTACTTACAAGTGAATCACGCGATCCAAAAATATTCATACAGAGCATTTTATCATTCGATTCGCTTTGCACCGAAACTCGGGACATTTCCACTGGGTGGGCAATCAATCAAGACCCATTTCGCCTAAACCTAAACATAT</td>\n",
       "      <td>2590</td>\n",
       "      <td>5.321928</td>\n",
       "      <td>1.763198e-07</td>\n",
       "      <td>dev</td>\n",
       "      <td>5.268528</td>\n",
       "      <td>pattern_1(104-154,fwd); pattern_1(76-126,rev)</td>\n",
       "      <td>FOS::JUND</td>\n",
       "    </tr>\n",
       "    <tr>\n",
       "      <th>167</th>\n",
       "      <td>('Dref', 'Dref', '-', '+', 4)</td>\n",
       "      <td>+</td>\n",
       "      <td>TATCGATATCACTATCGATA</td>\n",
       "      <td>TTATTAGCCGGCAAAATTGGTGGGTAAACAACAAATATTTGGACAAAAGCGCAGACAAGAACTGATAAGAGGATCAGGGATGACGAATTTCAAATGGTTGCGCCAGAGATGACAGGGTATCGATATCACTATCGATAGACTTATCGAAGACGGCTTAGCACTTATACCTACTCTGCAGCCCTGGTCGGCAGAAAAACAATAATCAGCTGATGCCATCGCTTATTTCCAACAATTTGCACCGCAAAAGTG</td>\n",
       "      <td>19539</td>\n",
       "      <td>38.219281</td>\n",
       "      <td>4.230561e-34</td>\n",
       "      <td>dev</td>\n",
       "      <td>5.127045</td>\n",
       "      <td>pattern_0(104-154,rev)</td>\n",
       "      <td>CUX1</td>\n",
       "    </tr>\n",
       "    <tr>\n",
       "      <th>226</th>\n",
       "      <td>('Jra', 'twi', '+', '-', 4)</td>\n",
       "      <td>+</td>\n",
       "      <td>GTGAATCACATCGACATATGT</td>\n",
       "      <td>GACTTTTCATTCCATTGTTCTTGGTTCTCGGAAGTATCAACTTATTGCCGAACTCGTGATTTAGTCTTATCGTTGTTTTTTTCTGGTTTTAGATATACATATGTTTTCTTTTATGCTAACTTCTGTCAGTGAATCACATCGACATATGTATTTGCATTGATATCTTGCGGATTTCCGAATGCCAGTAACGACGATTCACTGTACTTGGTTGGCGGAGCGCAATCTTTGTTCGAGAGAGTTCGTTTGCCA</td>\n",
       "      <td>626</td>\n",
       "      <td>34.219281</td>\n",
       "      <td>8.262587e-03</td>\n",
       "      <td>dev</td>\n",
       "      <td>5.113298</td>\n",
       "      <td>pattern_1(112-162,fwd)</td>\n",
       "      <td>FOS::JUND</td>\n",
       "    </tr>\n",
       "    <tr>\n",
       "      <th>61</th>\n",
       "      <td>('Dref', 'Max', '-', '+', 6)</td>\n",
       "      <td>+</td>\n",
       "      <td>TATCGATATTTGATAGCACGTG</td>\n",
       "      <td>TAATTAAGAGCAACAACAACAAACTTAGTAATGACACCCAAATAGAGATGAGCGATAGTTAATCACCTGTTATCAGCGCACAGCCAACGCTCATCCCTAAGCCTGCTGAGCAGCTGTTTCGACAATCGCTATCGATATATCTTGTTTAAACTTGCTATCGATATTTGATAGCACGTGTTGGGTTGTTCGCAATTTACGAATTGTATCTTTGTTAGTTATCCGCAATTTACATTTAAAACGAAGTAGATT</td>\n",
       "      <td>10613</td>\n",
       "      <td>35.219281</td>\n",
       "      <td>6.820836e-05</td>\n",
       "      <td>dev</td>\n",
       "      <td>5.038004</td>\n",
       "      <td>pattern_0(100-150,fwd); pattern_0(142-192,rev)</td>\n",
       "      <td>CUX1</td>\n",
       "    </tr>\n",
       "  </tbody>\n",
       "</table>\n",
       "</div>"
      ],
      "text/plain": [
       "                             ce_name orientation  \\\n",
       "281  ('Dref', 'GATAe', '+', '+', -5)           +   \n",
       "59      ('Jra', 'Jra', '-', '+', 10)           +   \n",
       "167    ('Dref', 'Dref', '-', '+', 4)           +   \n",
       "226      ('Jra', 'twi', '+', '-', 4)           +   \n",
       "61      ('Dref', 'Max', '-', '+', 6)           +   \n",
       "\n",
       "                        ce_sequence  \\\n",
       "281                      TATCGATAAT   \n",
       "59   AGTGACTAATCTACTTACAAGTGAATCACG   \n",
       "167            TATCGATATCACTATCGATA   \n",
       "226           GTGAATCACATCGACATATGT   \n",
       "61           TATCGATATTTGATAGCACGTG   \n",
       "\n",
       "                                                                                                                                                                                                                                           endogenous_sequence  \\\n",
       "281  TATATCTGTAGCTCAACACCTGACTGCTATCGAATGTTTTGGTATTTATTTTTATCGAAGTATTTTGCCGAAATTTGTGATTTGCCAGCCCTATTTCAATGTAAATATATCGATAATCGCCCGATTTTACTGAAAAATATTTCGATAAGAGCATCGATATTTCAAACAAATATCGACCCATTGACATGCGTCAGGTTTGTCCATCCCTAACAAAATCGTAGTACGAAATATCGAAAACGAAACACATCA   \n",
       "59   AATCAGTTGAAATTTATACCTCATCGTCGACAATGCGAGTCGTCGCGTTCCCATTGTTTACAAAATGTACCATAAAGATTGCGAGCGAGAGAATTTGATTAGTGACTAATCTACTTACAAGTGAATCACGCGATCCAAAAATATTCATACAGAGCATTTTATCATTCGATTCGCTTTGCACCGAAACTCGGGACATTTCCACTGGGTGGGCAATCAATCAAGACCCATTTCGCCTAAACCTAAACATAT   \n",
       "167  TTATTAGCCGGCAAAATTGGTGGGTAAACAACAAATATTTGGACAAAAGCGCAGACAAGAACTGATAAGAGGATCAGGGATGACGAATTTCAAATGGTTGCGCCAGAGATGACAGGGTATCGATATCACTATCGATAGACTTATCGAAGACGGCTTAGCACTTATACCTACTCTGCAGCCCTGGTCGGCAGAAAAACAATAATCAGCTGATGCCATCGCTTATTTCCAACAATTTGCACCGCAAAAGTG   \n",
       "226  GACTTTTCATTCCATTGTTCTTGGTTCTCGGAAGTATCAACTTATTGCCGAACTCGTGATTTAGTCTTATCGTTGTTTTTTTCTGGTTTTAGATATACATATGTTTTCTTTTATGCTAACTTCTGTCAGTGAATCACATCGACATATGTATTTGCATTGATATCTTGCGGATTTCCGAATGCCAGTAACGACGATTCACTGTACTTGGTTGGCGGAGCGCAATCTTTGTTCGAGAGAGTTCGTTTGCCA   \n",
       "61   TAATTAAGAGCAACAACAACAAACTTAGTAATGACACCCAAATAGAGATGAGCGATAGTTAATCACCTGTTATCAGCGCACAGCCAACGCTCATCCCTAAGCCTGCTGAGCAGCTGTTTCGACAATCGCTATCGATATATCTTGTTTAAACTTGCTATCGATATTTGATAGCACGTGTTGGGTTGTTCGCAATTTACGAATTGTATCTTTGTTAGTTATCCGCAATTTACATTTAAAACGAAGTAGATT   \n",
       "\n",
       "     pseudo_index    log2_fc        p_value dataset  EvoAug_predictions  \\\n",
       "281          5585   4.574315  5.067241e-114     dev            5.307164   \n",
       "59           2590   5.321928   1.763198e-07     dev            5.268528   \n",
       "167         19539  38.219281   4.230561e-34     dev            5.127045   \n",
       "226           626  34.219281   8.262587e-03     dev            5.113298   \n",
       "61          10613  35.219281   6.820836e-05     dev            5.038004   \n",
       "\n",
       "                                      TOMTOM_motifs      motif_names  \n",
       "281                                 No motifs found  No motifs found  \n",
       "59    pattern_1(104-154,fwd); pattern_1(76-126,rev)        FOS::JUND  \n",
       "167                          pattern_0(104-154,rev)             CUX1  \n",
       "226                          pattern_1(112-162,fwd)        FOS::JUND  \n",
       "61   pattern_0(100-150,fwd); pattern_0(142-192,rev)             CUX1  "
      ]
     },
     "execution_count": 112,
     "metadata": {},
     "output_type": "execute_result"
    },
    {
     "ename": "",
     "evalue": "",
     "output_type": "error",
     "traceback": [
      "\u001b[1;31mnotebook controller is DISPOSED. \n",
      "\u001b[1;31mView Jupyter <a href='command:jupyter.viewOutput'>log</a> for further details."
     ]
    },
    {
     "ename": "",
     "evalue": "",
     "output_type": "error",
     "traceback": [
      "\u001b[1;31mnotebook controller is DISPOSED. \n",
      "\u001b[1;31mView Jupyter <a href='command:jupyter.viewOutput'>log</a> for further details."
     ]
    }
   ],
   "source": [
    "dev_library.sort_values(by='EvoAug_predictions', ascending=False).head(5)"
   ]
  },
  {
   "cell_type": "code",
   "execution_count": null,
   "id": "8a561701",
   "metadata": {},
   "outputs": [
    {
     "data": {
      "text/plain": [
       "array(['No motifs found', 'GATA2', 'FOS::JUND', 'CUX1; GATA2', 'CUX1',\n",
       "       'GATA2; FOS::JUND'], dtype=object)"
      ]
     },
     "execution_count": 117,
     "metadata": {},
     "output_type": "execute_result"
    },
    {
     "ename": "",
     "evalue": "",
     "output_type": "error",
     "traceback": [
      "\u001b[1;31mnotebook controller is DISPOSED. \n",
      "\u001b[1;31mView Jupyter <a href='command:jupyter.viewOutput'>log</a> for further details."
     ]
    },
    {
     "ename": "",
     "evalue": "",
     "output_type": "error",
     "traceback": [
      "\u001b[1;31mnotebook controller is DISPOSED. \n",
      "\u001b[1;31mView Jupyter <a href='command:jupyter.viewOutput'>log</a> for further details."
     ]
    }
   ],
   "source": [
    "dev_library['motif_names'].unique()\n"
   ]
  },
  {
   "cell_type": "code",
   "execution_count": null,
   "id": "00a231c2",
   "metadata": {},
   "outputs": [
    {
     "data": {
      "text/plain": [
       "True"
      ]
     },
     "execution_count": 125,
     "metadata": {},
     "output_type": "execute_result"
    },
    {
     "ename": "",
     "evalue": "",
     "output_type": "error",
     "traceback": [
      "\u001b[1;31mnotebook controller is DISPOSED. \n",
      "\u001b[1;31mView Jupyter <a href='command:jupyter.viewOutput'>log</a> for further details."
     ]
    },
    {
     "ename": "",
     "evalue": "",
     "output_type": "error",
     "traceback": [
      "\u001b[1;31mnotebook controller is DISPOSED. \n",
      "\u001b[1;31mView Jupyter <a href='command:jupyter.viewOutput'>log</a> for further details."
     ]
    }
   ],
   "source": [
    "len(dev_library[dev_library['motif_names'] == 'GATA2']['endogenous_sequence'].iloc[0]) == len(dev_library[dev_library['motif_names'] == 'GATA2']['endogenous_sequence'].iloc[1])\n"
   ]
  }
 ],
 "metadata": {
  "kernelspec": {
   "display_name": "modisco_env",
   "language": "python",
   "name": "python3"
  },
  "language_info": {
   "codemirror_mode": {
    "name": "ipython",
    "version": 3
   },
   "file_extension": ".py",
   "mimetype": "text/x-python",
   "name": "python",
   "nbconvert_exporter": "python",
   "pygments_lexer": "ipython3",
   "version": "3.8.20"
  }
 },
 "nbformat": 4,
 "nbformat_minor": 5
}
