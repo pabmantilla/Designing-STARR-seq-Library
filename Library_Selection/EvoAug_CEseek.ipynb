{
 "cells": [
  {
   "cell_type": "code",
   "execution_count": 63,
   "id": "adf6972d",
   "metadata": {},
   "outputs": [
    {
     "data": {
      "text/plain": [
       "device(type='cuda')"
      ]
     },
     "execution_count": 63,
     "metadata": {},
     "output_type": "execute_result"
    }
   ],
   "source": [
    "## imports\n",
    "import pandas as pd\n",
    "import ceseek as ce\n",
    "import os\n",
    "import torch\n",
    "import tangermeme\n",
    "\n",
    "gpu = torch.device('cuda' if torch.cuda.is_available() else 'cpu')\n",
    "gpu\n"
   ]
  },
  {
   "cell_type": "code",
   "execution_count": 12,
   "id": "55adb27e",
   "metadata": {},
   "outputs": [
    {
     "data": {
      "text/html": [
       "<div>\n",
       "<style scoped>\n",
       "    .dataframe tbody tr th:only-of-type {\n",
       "        vertical-align: middle;\n",
       "    }\n",
       "\n",
       "    .dataframe tbody tr th {\n",
       "        vertical-align: top;\n",
       "    }\n",
       "\n",
       "    .dataframe thead th {\n",
       "        text-align: right;\n",
       "    }\n",
       "</style>\n",
       "<table border=\"1\" class=\"dataframe\">\n",
       "  <thead>\n",
       "    <tr style=\"text-align: right;\">\n",
       "      <th></th>\n",
       "      <th>sequence</th>\n",
       "      <th>actual_dev</th>\n",
       "      <th>pred_dev</th>\n",
       "      <th>se_dev</th>\n",
       "    </tr>\n",
       "  </thead>\n",
       "  <tbody>\n",
       "    <tr>\n",
       "      <th>0</th>\n",
       "      <td>TTTGACTAAAAAATATTCAAAATATAAACCAAACCAAACAACAAGC...</td>\n",
       "      <td>8.481741</td>\n",
       "      <td>6.143590</td>\n",
       "      <td>5.466950</td>\n",
       "    </tr>\n",
       "    <tr>\n",
       "      <th>1</th>\n",
       "      <td>CAGTTCAACTCACTTTTTGTAATATATATATATTTGGTTAATAAAA...</td>\n",
       "      <td>8.481741</td>\n",
       "      <td>5.618230</td>\n",
       "      <td>8.199696</td>\n",
       "    </tr>\n",
       "    <tr>\n",
       "      <th>2</th>\n",
       "      <td>TGAATTCAATATCCAAACACTTAATCTAAACTATTTTGTTGTTTAA...</td>\n",
       "      <td>7.993373</td>\n",
       "      <td>3.993589</td>\n",
       "      <td>15.998274</td>\n",
       "    </tr>\n",
       "    <tr>\n",
       "      <th>3</th>\n",
       "      <td>CTGATTTCCGAGATGGCCTTATCAAGCCGCTTTATCAGCATCTGTT...</td>\n",
       "      <td>7.993373</td>\n",
       "      <td>3.941199</td>\n",
       "      <td>16.420110</td>\n",
       "    </tr>\n",
       "    <tr>\n",
       "      <th>4</th>\n",
       "      <td>GAACCGAAGCGAAACGTGGCACGAAGCAGCCAAGTTGCAGTGAATC...</td>\n",
       "      <td>7.901251</td>\n",
       "      <td>2.372929</td>\n",
       "      <td>30.562347</td>\n",
       "    </tr>\n",
       "  </tbody>\n",
       "</table>\n",
       "</div>"
      ],
      "text/plain": [
       "                                            sequence  actual_dev  pred_dev  \\\n",
       "0  TTTGACTAAAAAATATTCAAAATATAAACCAAACCAAACAACAAGC...    8.481741  6.143590   \n",
       "1  CAGTTCAACTCACTTTTTGTAATATATATATATTTGGTTAATAAAA...    8.481741  5.618230   \n",
       "2  TGAATTCAATATCCAAACACTTAATCTAAACTATTTTGTTGTTTAA...    7.993373  3.993589   \n",
       "3  CTGATTTCCGAGATGGCCTTATCAAGCCGCTTTATCAGCATCTGTT...    7.993373  3.941199   \n",
       "4  GAACCGAAGCGAAACGTGGCACGAAGCAGCCAAGTTGCAGTGAATC...    7.901251  2.372929   \n",
       "\n",
       "      se_dev  \n",
       "0   5.466950  \n",
       "1   8.199696  \n",
       "2  15.998274  \n",
       "3  16.420110  \n",
       "4  30.562347  "
      ]
     },
     "execution_count": 12,
     "metadata": {},
     "output_type": "execute_result"
    }
   ],
   "source": [
    "## load high activity library\n",
    "high_activity_dev = pd.read_csv('/grid/wsbs/home_norepl/pmantill/train_EvoAug/EvoAug_Library_CEseek/high_activity_dev.csv')\n",
    "high_activity_hk = pd.read_csv('/grid/wsbs/home_norepl/pmantill/train_EvoAug/EvoAug_Library_CEseek/high_activity_hk.csv')\n",
    "\n",
    "high_activity_dev.head()"
   ]
  },
  {
   "cell_type": "code",
   "execution_count": 13,
   "id": "d7f2c905",
   "metadata": {},
   "outputs": [
    {
     "data": {
      "text/html": [
       "<div>\n",
       "<style scoped>\n",
       "    .dataframe tbody tr th:only-of-type {\n",
       "        vertical-align: middle;\n",
       "    }\n",
       "\n",
       "    .dataframe tbody tr th {\n",
       "        vertical-align: top;\n",
       "    }\n",
       "\n",
       "    .dataframe thead th {\n",
       "        text-align: right;\n",
       "    }\n",
       "</style>\n",
       "<table border=\"1\" class=\"dataframe\">\n",
       "  <thead>\n",
       "    <tr style=\"text-align: right;\">\n",
       "      <th></th>\n",
       "      <th>sequence</th>\n",
       "      <th>actual_dev</th>\n",
       "      <th>pred_dev</th>\n",
       "      <th>se_dev</th>\n",
       "    </tr>\n",
       "  </thead>\n",
       "  <tbody>\n",
       "    <tr>\n",
       "      <th>0</th>\n",
       "      <td>TTTGACTAAAAAATATTCAAAATATAAACCAAACCAAACAACAAGC...</td>\n",
       "      <td>8.481741</td>\n",
       "      <td>6.143590</td>\n",
       "      <td>5.466950</td>\n",
       "    </tr>\n",
       "    <tr>\n",
       "      <th>1</th>\n",
       "      <td>CAGTTCAACTCACTTTTTGTAATATATATATATTTGGTTAATAAAA...</td>\n",
       "      <td>8.481741</td>\n",
       "      <td>5.618230</td>\n",
       "      <td>8.199696</td>\n",
       "    </tr>\n",
       "    <tr>\n",
       "      <th>2</th>\n",
       "      <td>TGAATTCAATATCCAAACACTTAATCTAAACTATTTTGTTGTTTAA...</td>\n",
       "      <td>7.993373</td>\n",
       "      <td>3.993589</td>\n",
       "      <td>15.998274</td>\n",
       "    </tr>\n",
       "    <tr>\n",
       "      <th>3</th>\n",
       "      <td>CTGATTTCCGAGATGGCCTTATCAAGCCGCTTTATCAGCATCTGTT...</td>\n",
       "      <td>7.993373</td>\n",
       "      <td>3.941199</td>\n",
       "      <td>16.420110</td>\n",
       "    </tr>\n",
       "    <tr>\n",
       "      <th>4</th>\n",
       "      <td>GAACCGAAGCGAAACGTGGCACGAAGCAGCCAAGTTGCAGTGAATC...</td>\n",
       "      <td>7.901251</td>\n",
       "      <td>2.372929</td>\n",
       "      <td>30.562347</td>\n",
       "    </tr>\n",
       "  </tbody>\n",
       "</table>\n",
       "</div>"
      ],
      "text/plain": [
       "                                            sequence  actual_dev  pred_dev  \\\n",
       "0  TTTGACTAAAAAATATTCAAAATATAAACCAAACCAAACAACAAGC...    8.481741  6.143590   \n",
       "1  CAGTTCAACTCACTTTTTGTAATATATATATATTTGGTTAATAAAA...    8.481741  5.618230   \n",
       "2  TGAATTCAATATCCAAACACTTAATCTAAACTATTTTGTTGTTTAA...    7.993373  3.993589   \n",
       "3  CTGATTTCCGAGATGGCCTTATCAAGCCGCTTTATCAGCATCTGTT...    7.993373  3.941199   \n",
       "4  GAACCGAAGCGAAACGTGGCACGAAGCAGCCAAGTTGCAGTGAATC...    7.901251  2.372929   \n",
       "\n",
       "      se_dev  \n",
       "0   5.466950  \n",
       "1   8.199696  \n",
       "2  15.998274  \n",
       "3  16.420110  \n",
       "4  30.562347  "
      ]
     },
     "execution_count": 13,
     "metadata": {},
     "output_type": "execute_result"
    }
   ],
   "source": [
    "high_activity_dev.head()"
   ]
  },
  {
   "cell_type": "code",
   "execution_count": 135,
   "id": "32e54ff7",
   "metadata": {},
   "outputs": [],
   "source": [
    "# Make control sequences - for each sequence in the high activity library, make 1 10x dishuffled sequence with tangermeme\n",
    "def csv_to_fasta(csv_file, fasta_file, sequence_col='sequence', id_cols=None):\n",
    "    \"\"\"\n",
    "    Convert CSV with sequences to FASTA format\n",
    "    \n",
    "    Args:\n",
    "        csv_file: path to input CSV\n",
    "        fasta_file: path to output FASTA\n",
    "        sequence_col: name of column containing sequences\n",
    "        id_cols: list of columns to include in FASTA header (optional)\n",
    "    \"\"\"\n",
    "    df = pd.read_csv(csv_file)\n",
    "    \n",
    "    with open(fasta_file, 'w') as f:\n",
    "        for idx, row in df.iterrows():\n",
    "            # Create header - use index if no id_cols specified\n",
    "            if id_cols:\n",
    "                header_parts = [f\"{col}={row[col]}\" for col in id_cols if col in df.columns]\n",
    "                header = f\">seq_{idx}_\" + \"_\".join(header_parts)\n",
    "            else:\n",
    "                header = f\">seq_{idx}\"\n",
    "            \n",
    "            # Write FASTA entry\n",
    "            f.write(f\"{header}\\n{row[sequence_col]}\\n\")\n",
    "            \n",
    "\n",
    "def make_control_sequences(df, output_file, n=10):\n",
    "    from tangermeme.ersatz import dinucleotide_shuffle\n",
    "    from tangermeme.utils import one_hot_encode\n",
    "    from tangermeme.utils import characters\n",
    "    import torch\n",
    "    \n",
    "    sequences = df['sequence'].tolist()\n",
    "    \n",
    "    with open(output_file, 'w') as f:\n",
    "        for orig_idx, seq in enumerate(sequences):\n",
    "            # Convert single sequence to one-hot: shape (4, seq_len)\n",
    "            one_hot = one_hot_encode(seq)\n",
    "            \n",
    "            # Add batch dimension for dinucleotide_shuffle: shape (1, 4, seq_len)\n",
    "            one_hot_batch = one_hot.unsqueeze(0)\n",
    "            \n",
    "            # Generate n shuffled versions: returns shape (1, 4*n, seq_len)\n",
    "            shuffled_batch = dinucleotide_shuffle(one_hot_batch, n=n, random_state=None)\n",
    "            \n",
    "            # Remove batch dimension and reshape: (4*n, seq_len) -> (n, 4, seq_len)\n",
    "            shuffled_no_batch = shuffled_batch.squeeze(0)  # (4*n, seq_len)\n",
    "            shuffled_reshaped = shuffled_no_batch.view(n, 4, -1)  # (n, 4, seq_len)\n",
    "            \n",
    "            # Convert each shuffled sequence to string\n",
    "            for shuffle_num in range(n):\n",
    "                # Extract single shuffled sequence: shape (4, seq_len)\n",
    "                shuffled_seq_tensor = shuffled_reshaped[shuffle_num]\n",
    "                \n",
    "                # Convert to string using characters function\n",
    "                shuffled_seq_str = characters(shuffled_seq_tensor)\n",
    "                \n",
    "                # Write to file\n",
    "                f.write(f\">shuffle_{orig_idx}_{shuffle_num}\\n{shuffled_seq_str}\\n\")"
   ]
  },
  {
   "cell_type": "code",
   "execution_count": 138,
   "id": "9ebffd11",
   "metadata": {},
   "outputs": [
    {
     "name": "stdout",
     "output_type": "stream",
     "text": [
      "Number of sequences in high_activity_dev_with_scores.fasta: 5340, 5340\n",
      "Number of sequences in high_activity_hk_with_scores.fasta: 3802, 3802\n",
      "Control sequences length: 53400.0\n",
      "Control sequences length: 38020.0\n",
      "\n",
      ">shuffle_0_0\n",
      "\n",
      "TATTTTTTAAGTTTATAACGTAAAATTTACGTGCAACGTTAACATCGTTTAATTTAATTCAAAGAAATGATGAATTACTTGAGCAATGGGCTTCCAACACTTGGAAAACATAGCCTTTTGTAACATAATACTTCTGTGACTTGACAAATTGCTATGATAAATTCGCATAGTGTTTAGTCGCCATTCTTTGCTTTGGACACTACATAAAGTTCCATTAAACAAGTACTCAAGATATAAGAGCAGAACCTG\n",
      "\n",
      ">shuffle_0_1\n",
      "\n",
      "TCAGACGATTCGTACAAGGTTAATATTAATTTTGTTGCTGTAGGACAAATAGTTTTGTCACAAGAATAGCTTACGTCTAAGATAACTCCTTCACAAATTTTTTGCAGCGCAAATAGCATAGTTTCAACCTTGCTAATATGAACAAACTTCTTGACAATGACACCGCATGTATATAAGTTTGATTTCTAAGAATGAAAACCTTGGTTATGGTAAAATTATATTGCTTTAAACAATTACCAAACGACTTTG\n",
      "\n",
      "\n",
      ">shuffle_0_0\n",
      "\n",
      "TGTGCGTCGACATTTATATAAAATTTGGGAGACGACATGATTATTAATAAACATTCGTAATTAGTCAGTTATCGGCGGGCGCTTTCTCCAATTGATGATAATTTCACGAAATTTTACTAGAATTGTTAAACAAAATAAAACGGATATCTTGTGTCTCTTTATTGATGATTTTCATGGGGAGAAACTAACATCGTTATAAAATTCGCATCCGGGTAGCATGGATGTTGCGAGTCGCATCAGATAAACATA\n",
      "\n",
      ">shuffle_0_1\n",
      "\n",
      "TCCAGTAATACGATTATAAATTGGCCGATCAAACGTTAATGATAAGGCGTGAATTTTAAATATTGGAATTTTCGCAATCAGTCAGCGGTGAACTGAGGTGATTATTTCATCGAATGGATATCAATTACTTGAAAATGGGGTATCTTTACGTCGGCAGAAATGATGATAGCATTGTATTCTCATCTTTATAAAGACAAACGTTTATTATGCTCGTCGATCGCTACGGTGGACATTTAACACAAAATTTTA\n",
      "\n"
     ]
    }
   ],
   "source": [
    "# Get target and control sequences in fasta format\n",
    "\n",
    "if not os.path.exists('high_activity_dev_with_scores.fasta'):\n",
    "    # Include metadata in headers\n",
    "    csv_to_fasta('high_activity_dev.csv', 'high_activity_dev_with_scores.fasta', \n",
    "        id_cols=['actual_dev', 'pred_dev', 'se_dev'])\n",
    "        \n",
    "if not os.path.exists('high_activity_hk_with_scores.fasta'):\n",
    "    csv_to_fasta('high_activity_hk.csv', 'high_activity_hk_with_scores.fasta', \n",
    "        id_cols=['actual_hk', 'pred_hk', 'se_hk'])\n",
    "\n",
    "if not os.path.exists('high_activity_dev_control.fasta'):\n",
    "    make_control_sequences(high_activity_dev, output_file='high_activity_dev_control.fasta', n=10)\n",
    "\n",
    "if not os.path.exists('high_activity_hk_control.fasta'):\n",
    "    make_control_sequences(high_activity_hk, output_file='high_activity_hk_control.fasta', n=10)\n",
    "\n",
    "\n",
    "#load fasta and print head to confirm\n",
    "fasta_file_dev = 'high_activity_dev_with_scores.fasta'\n",
    "fasta_file_hk = 'high_activity_hk_with_scores.fasta'\n",
    "fasta_file_dev_control = 'high_activity_dev_control.fasta'\n",
    "fasta_file_hk_control = 'high_activity_hk_control.fasta'\n",
    "\n",
    "seq_count_dev = sum(1 for line in open(fasta_file_dev) if line.startswith('>'))\n",
    "seq_count_hk = sum(1 for line in open(fasta_file_hk) if line.startswith('>'))\n",
    "\n",
    "print(f\"Number of sequences in {fasta_file_dev}: {seq_count_dev}, {high_activity_dev.shape[0]}\")\n",
    "print(f\"Number of sequences in {fasta_file_hk}: {seq_count_hk}, {high_activity_hk.shape[0]}\")\n",
    "\n",
    "print(f'Control sequences length: {len(open(fasta_file_dev_control).readlines()) / 2}')\n",
    "print(f'Control sequences length: {len(open(fasta_file_hk_control).readlines()) / 2}')\n",
    "\n",
    "with open(fasta_file_dev_control, 'r') as f:\n",
    "    print(\"\")\n",
    "    print(f.readline())\n",
    "    print(f.readline())\n",
    "    print(f.readline())\n",
    "    print(f.readline())\n",
    "with open(fasta_file_hk_control, 'r') as f:\n",
    "    print(\"\")\n",
    "    print(f.readline())\n",
    "    print(f.readline())\n",
    "    print(f.readline())\n",
    "    print(f.readline())\n",
    "\n"
   ]
  },
  {
   "cell_type": "code",
   "execution_count": 139,
   "id": "2b604bdf",
   "metadata": {},
   "outputs": [
    {
     "data": {
      "text/plain": [
       "(odict_keys(['Jra', 'GATAe', 'CTCF', 'Atf6', 'CrebA', 'Max', 'twi', 'Dref']),\n",
       " odict_keys(['Jra', 'GATAe', 'CTCF', 'Atf6', 'CrebA', 'Max', 'twi', 'Dref']))"
      ]
     },
     "execution_count": 139,
     "metadata": {},
     "output_type": "execute_result"
    }
   ],
   "source": [
    "## Load CEseek motifs.pwm\n",
    "pwm_file = 'DeepSTARR_dm6_motifs.pwm'\n",
    "\n",
    "obj_dev = ce.CEseek(pwm_file)\n",
    "obj_hk = ce.CEseek(pwm_file)\n",
    "\n",
    "obj_dev.dict_motif.keys(), obj_hk.dict_motif.keys()"
   ]
  },
  {
   "cell_type": "code",
   "execution_count": 143,
   "id": "6fe8eaa3",
   "metadata": {},
   "outputs": [
    {
     "data": {
      "text/plain": [
       "(10.0, 10.0)"
      ]
     },
     "execution_count": 143,
     "metadata": {},
     "output_type": "execute_result"
    }
   ],
   "source": [
    "# load fasta into CEseek\n",
    "\n",
    "obj_dev.load_sequences(fasta_file_dev, fasta_input=True, out_seq_len=249, sequence_set='target')\n",
    "obj_hk.load_sequences(fasta_file_hk, fasta_input=True, out_seq_len=249, sequence_set='target')\n",
    "obj_dev.load_sequences(fasta_file_dev_control, fasta_input=True, out_seq_len=249, sequence_set='control')\n",
    "obj_hk.load_sequences(fasta_file_hk_control, fasta_input=True, out_seq_len=249, sequence_set='control')\n",
    "\n",
    "obj_dev.scan_motifs(num_threads=8)\n",
    "obj_hk.scan_motifs(num_threads=8)\n",
    "\n",
    "len(obj_dev.sequences_control)/len(obj_dev.sequences), len(obj_hk.sequences_control)/len(obj_hk.sequences)\n",
    "\n"
   ]
  },
  {
   "cell_type": "code",
   "execution_count": null,
   "id": "9f7a58f1",
   "metadata": {},
   "outputs": [],
   "source": [
    "## Get tfmodisco working so we can confirm motifs\n",
    "## Need tangermemes attribution methods on my student model\n",
    "## Plot Control counts vs Target counts\n",
    "\n"
   ]
  },
  {
   "cell_type": "code",
   "execution_count": null,
   "id": "5239a72d",
   "metadata": {},
   "outputs": [],
   "source": []
  }
 ],
 "metadata": {
  "kernelspec": {
   "display_name": "CE_env",
   "language": "python",
   "name": "python3"
  },
  "language_info": {
   "codemirror_mode": {
    "name": "ipython",
    "version": 3
   },
   "file_extension": ".py",
   "mimetype": "text/x-python",
   "name": "python",
   "nbconvert_exporter": "python",
   "pygments_lexer": "ipython3",
   "version": "3.8.20"
  }
 },
 "nbformat": 4,
 "nbformat_minor": 5
}
